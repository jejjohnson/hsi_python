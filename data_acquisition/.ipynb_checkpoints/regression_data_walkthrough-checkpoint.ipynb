{
 "cells": [
  {
   "cell_type": "markdown",
   "metadata": {},
   "source": [
    "# Regression Demo"
   ]
  },
  {
   "cell_type": "markdown",
   "metadata": {},
   "source": [
    "### Grab Data"
   ]
  },
  {
   "cell_type": "code",
   "execution_count": 1,
   "metadata": {},
   "outputs": [],
   "source": [
    "# import appropriate packages\n",
    "import urllib.request\n",
    "import scipy.io as sio\n",
    "import pickle\n",
    "import os"
   ]
  },
  {
   "cell_type": "code",
   "execution_count": 2,
   "metadata": {},
   "outputs": [],
   "source": [
    "# URLS of the sample dataset\n",
    "sparc_url = \"https://github.com/IPL-UV/simpleR/raw/master/DATA/SPARC.mat\"\n",
    "chloro_url = \"https://github.com/IPL-UV/simpleR/raw/master/DATA/cloroSeaBAM.mat\""
   ]
  },
  {
   "cell_type": "code",
   "execution_count": 3,
   "metadata": {},
   "outputs": [
    {
     "name": "stdout",
     "output_type": "stream",
     "text": [
      "['__header__', '__version__', '__globals__', 'WaveLength', 'NumControl', 'X', 'Y']\n",
      "['__header__', '__version__', '__globals__', 'Train1', 'Train2', 'Test', 'AllData', 'Sorted', 'SamplesT', 'LabelsT', 'SamplesV', 'LabelsV']\n"
     ]
    }
   ],
   "source": [
    "with urllib.request.urlopen(sparc_url) as f:\n",
    "    sparc_matfile = f.read()\n",
    "\n",
    "with open('SPARC.mat', 'wb') as code:\n",
    "    code.write(sparc_matfile)\n",
    "    \n",
    "f = urllib.request.urlopen(chloro_url)\n",
    "chloro_matfile = f.read()\n",
    "\n",
    "with open('cloroSeaBAM.mat', 'wb') as code:\n",
    "    code.write(chloro_matfile)\n",
    "\n",
    "sparc_data = sio.loadmat('SPARC.mat')\n",
    "cloro_data = sio.loadmat('cloroSeaBAM.mat')\n",
    "\n",
    "print([key for key, value in sparc_data.items()])\n",
    "print([key for key, value in cloro_data.items()])"
   ]
  },
  {
   "cell_type": "code",
   "execution_count": 4,
   "metadata": {},
   "outputs": [
    {
     "name": "stdout",
     "output_type": "stream",
     "text": [
      "(135, 62) (135, 3)\n",
      "(1, 135) (62, 1)\n"
     ]
    }
   ],
   "source": [
    "x = sparc_data['X']\n",
    "y = sparc_data['Y']\n",
    "numcontrol = sparc_data['NumControl']\n",
    "wavelength = sparc_data['WaveLength']\n",
    "\n",
    "print(x.shape, y.shape)\n",
    "print(numcontrol.shape, wavelength.shape)"
   ]
  },
  {
   "cell_type": "code",
   "execution_count": 5,
   "metadata": {},
   "outputs": [
    {
     "name": "stdout",
     "output_type": "stream",
     "text": [
      "(230, 6) (230, 6)\n",
      "(459, 6)\n",
      "(919, 6)\n",
      "(460, 5) (459, 5)\n",
      "(460, 1) (459, 1)\n"
     ]
    }
   ],
   "source": [
    "train1 = cloro_data['Train1']\n",
    "train2 = cloro_data['Train2']\n",
    "test = cloro_data['Test']\n",
    "data = cloro_data['AllData']\n",
    "data_sorted = cloro_data['Sorted']\n",
    "samples_t = cloro_data['SamplesT']\n",
    "samples_v = cloro_data['SamplesV']\n",
    "labels_t = cloro_data['LabelsT']\n",
    "labels_v = cloro_data['LabelsV']\n",
    "\n",
    "\n",
    "print(train1.shape, train2.shape)\n",
    "print(test.shape)\n",
    "print(data.shape)\n",
    "print(samples_t.shape, samples_v.shape)\n",
    "print(labels_t.shape, labels_v.shape)"
   ]
  },
  {
   "cell_type": "code",
   "execution_count": 41,
   "metadata": {},
   "outputs": [
    {
     "name": "stdout",
     "output_type": "stream",
     "text": [
      "['__header__', '__version__', '__globals__', 'WaveLength', 'NumControl', 'X', 'Y']\n"
     ]
    }
   ],
   "source": []
  },
  {
   "cell_type": "code",
   "execution_count": 25,
   "metadata": {},
   "outputs": [
    {
     "ename": "ValueError",
     "evalue": "embedded null byte",
     "output_type": "error",
     "traceback": [
      "\u001b[0;31m---------------------------------------------------------------------------\u001b[0m",
      "\u001b[0;31mValueError\u001b[0m                                Traceback (most recent call last)",
      "\u001b[0;32m<ipython-input-25-16c6742f8edd>\u001b[0m in \u001b[0;36m<module>\u001b[0;34m()\u001b[0m\n\u001b[1;32m      1\u001b[0m \u001b[0;31m# create an empty dictionary to hold the data\u001b[0m\u001b[0;34m\u001b[0m\u001b[0;34m\u001b[0m\u001b[0m\n\u001b[0;32m----> 2\u001b[0;31m \u001b[0msparc_data\u001b[0m \u001b[0;34m=\u001b[0m \u001b[0msio\u001b[0m\u001b[0;34m.\u001b[0m\u001b[0mloadmat\u001b[0m\u001b[0;34m(\u001b[0m\u001b[0msparc_matfile\u001b[0m\u001b[0;34m)\u001b[0m\u001b[0;34m\u001b[0m\u001b[0m\n\u001b[0m\u001b[1;32m      3\u001b[0m \u001b[0;34m\u001b[0m\u001b[0m\n\u001b[1;32m      4\u001b[0m \u001b[0;31m# loop through key and filename\u001b[0m\u001b[0;34m\u001b[0m\u001b[0;34m\u001b[0m\u001b[0m\n\u001b[1;32m      5\u001b[0m \u001b[0;31m# for name, file in zip(data_names, ip_names):\u001b[0m\u001b[0;34m\u001b[0m\u001b[0;34m\u001b[0m\u001b[0m\n",
      "\u001b[0;32m~/anaconda3/envs/hsipy/lib/python3.6/site-packages/scipy/io/matlab/mio.py\u001b[0m in \u001b[0;36mloadmat\u001b[0;34m(file_name, mdict, appendmat, **kwargs)\u001b[0m\n\u001b[1;32m    139\u001b[0m     \"\"\"\n\u001b[1;32m    140\u001b[0m     \u001b[0mvariable_names\u001b[0m \u001b[0;34m=\u001b[0m \u001b[0mkwargs\u001b[0m\u001b[0;34m.\u001b[0m\u001b[0mpop\u001b[0m\u001b[0;34m(\u001b[0m\u001b[0;34m'variable_names'\u001b[0m\u001b[0;34m,\u001b[0m \u001b[0;32mNone\u001b[0m\u001b[0;34m)\u001b[0m\u001b[0;34m\u001b[0m\u001b[0m\n\u001b[0;32m--> 141\u001b[0;31m     \u001b[0mMR\u001b[0m\u001b[0;34m,\u001b[0m \u001b[0mfile_opened\u001b[0m \u001b[0;34m=\u001b[0m \u001b[0mmat_reader_factory\u001b[0m\u001b[0;34m(\u001b[0m\u001b[0mfile_name\u001b[0m\u001b[0;34m,\u001b[0m \u001b[0mappendmat\u001b[0m\u001b[0;34m,\u001b[0m \u001b[0;34m**\u001b[0m\u001b[0mkwargs\u001b[0m\u001b[0;34m)\u001b[0m\u001b[0;34m\u001b[0m\u001b[0m\n\u001b[0m\u001b[1;32m    142\u001b[0m     \u001b[0mmatfile_dict\u001b[0m \u001b[0;34m=\u001b[0m \u001b[0mMR\u001b[0m\u001b[0;34m.\u001b[0m\u001b[0mget_variables\u001b[0m\u001b[0;34m(\u001b[0m\u001b[0mvariable_names\u001b[0m\u001b[0;34m)\u001b[0m\u001b[0;34m\u001b[0m\u001b[0m\n\u001b[1;32m    143\u001b[0m     \u001b[0;32mif\u001b[0m \u001b[0mmdict\u001b[0m \u001b[0;32mis\u001b[0m \u001b[0;32mnot\u001b[0m \u001b[0;32mNone\u001b[0m\u001b[0;34m:\u001b[0m\u001b[0;34m\u001b[0m\u001b[0m\n",
      "\u001b[0;32m~/anaconda3/envs/hsipy/lib/python3.6/site-packages/scipy/io/matlab/mio.py\u001b[0m in \u001b[0;36mmat_reader_factory\u001b[0;34m(file_name, appendmat, **kwargs)\u001b[0m\n\u001b[1;32m     62\u001b[0m \u001b[0;34m\u001b[0m\u001b[0m\n\u001b[1;32m     63\u001b[0m     \"\"\"\n\u001b[0;32m---> 64\u001b[0;31m     \u001b[0mbyte_stream\u001b[0m\u001b[0;34m,\u001b[0m \u001b[0mfile_opened\u001b[0m \u001b[0;34m=\u001b[0m \u001b[0m_open_file\u001b[0m\u001b[0;34m(\u001b[0m\u001b[0mfile_name\u001b[0m\u001b[0;34m,\u001b[0m \u001b[0mappendmat\u001b[0m\u001b[0;34m)\u001b[0m\u001b[0;34m\u001b[0m\u001b[0m\n\u001b[0m\u001b[1;32m     65\u001b[0m     \u001b[0mmjv\u001b[0m\u001b[0;34m,\u001b[0m \u001b[0mmnv\u001b[0m \u001b[0;34m=\u001b[0m \u001b[0mget_matfile_version\u001b[0m\u001b[0;34m(\u001b[0m\u001b[0mbyte_stream\u001b[0m\u001b[0;34m)\u001b[0m\u001b[0;34m\u001b[0m\u001b[0m\n\u001b[1;32m     66\u001b[0m     \u001b[0;32mif\u001b[0m \u001b[0mmjv\u001b[0m \u001b[0;34m==\u001b[0m \u001b[0;36m0\u001b[0m\u001b[0;34m:\u001b[0m\u001b[0;34m\u001b[0m\u001b[0m\n",
      "\u001b[0;32m~/anaconda3/envs/hsipy/lib/python3.6/site-packages/scipy/io/matlab/mio.py\u001b[0m in \u001b[0;36m_open_file\u001b[0;34m(file_like, appendmat)\u001b[0m\n\u001b[1;32m     31\u001b[0m \u001b[0;34m\u001b[0m\u001b[0m\n\u001b[1;32m     32\u001b[0m     \u001b[0;32mtry\u001b[0m\u001b[0;34m:\u001b[0m\u001b[0;34m\u001b[0m\u001b[0m\n\u001b[0;32m---> 33\u001b[0;31m         \u001b[0;32mreturn\u001b[0m \u001b[0mopen\u001b[0m\u001b[0;34m(\u001b[0m\u001b[0mfile_like\u001b[0m\u001b[0;34m,\u001b[0m \u001b[0;34m'rb'\u001b[0m\u001b[0;34m)\u001b[0m\u001b[0;34m,\u001b[0m \u001b[0;32mTrue\u001b[0m\u001b[0;34m\u001b[0m\u001b[0m\n\u001b[0m\u001b[1;32m     34\u001b[0m     \u001b[0;32mexcept\u001b[0m \u001b[0mIOError\u001b[0m\u001b[0;34m:\u001b[0m\u001b[0;34m\u001b[0m\u001b[0m\n\u001b[1;32m     35\u001b[0m         \u001b[0;31m# Probably \"not found\"\u001b[0m\u001b[0;34m\u001b[0m\u001b[0;34m\u001b[0m\u001b[0m\n",
      "\u001b[0;31mValueError\u001b[0m: embedded null byte"
     ]
    }
   ],
   "source": [
    "# create an empty dictionary to hold the data \n",
    "\n",
    "\n",
    "# loop through key and filename\n",
    "# for name, file in zip(data_names, ip_names):\n",
    "    \n",
    "#     # import .mat file\n",
    "#     temp = sio.loadmat(file)\n",
    "    \n",
    "#     # save hsi data in dictionary\n",
    "#     hsi_data[name] = temp[name]"
   ]
  },
  {
   "cell_type": "code",
   "execution_count": null,
   "metadata": {},
   "outputs": [],
   "source": []
  },
  {
   "cell_type": "code",
   "execution_count": 18,
   "metadata": {},
   "outputs": [
    {
     "name": "stdout",
     "output_type": "stream",
     "text": [
      "b'MATLAB 5.0 MAT-file, Platform: PCWIN, Created on: Thu Jul 15 10:13:31 2004                                                  \\x00\\x01IM\\x0e\\x00\\x00\\x00X+\\x00\\x00\\x06\\x00\\x00\\x00\\x08\\x00\\x00\\x00\\x06\\x00\\x00\\x00\\x00\\x00\\x00\\x00\\x05\\x00\\x00\\x00\\x08\\x00\\x00\\x00\\xe6\\x00\\x00\\x00\\x06\\x00\\x00\\x00\\x01\\x00\\x00\\x00\\x06\\x00\\x00\\x00Train1\\x00\\x00\\t\\x00\\x00\\x00 +\\x00\\x00;\\xb5\\x14?\\xaf@\\xfe\\xbfBk\\xfc\\xc4,\\xfc\\xfd\\xbf\\xec\\x8b\\x057\\xb2\\x00\\xfd\\xbf\\xa6\\x1a\\xd2\\xb5\\xeac\\xfe\\xbfQ\\xfd\\xd9H?E\\xfe\\xbf4\\xde\\xd7\\xfa\\x82\\xc3\\xfd\\xbf\\x00\\x08qH\\x17\\x81\\xfd\\xbf]\\xbf\\xcd\\xd3\\x9a\\xe5\\xfd\\xbfh/\\xb2\\xcf)\\xf1\\xfc\\xbf\\'>\\xc5\\x11n\\r\\x00\\xc0\\x88]\\xc2>\\x8d%\\xfe\\xbf\\xf1O\\xde\\x045E\\xfd\\xbf\\xcb\\xbb\\xc9\\xf3\\t\\xce\\xff\\xbf\\xf4\\x91\\x82\\x11u\\xb3\\xfc\\xbf\\xe3\\xabn\\x0c9r\\xfe\\xbfl\\x8a2\\xe1\\xb8`\\xfd\\xbf\\x80\\xbb\\xc6\\x10\\xfb\\xe2\\xfd\\xbf6\\x0f\\xf5\\xf5[_\\xff\\xbf\\x93M\\x08\\t\\x90\\xca\\xfe\\xbf\\x8f\\x8e\\xd1X\\x00\\xed\\xfd\\xbf\\x91\\xb1T\\xc3\\xf0\\xec\\xff\\xbf\\xf2\\xc8\\xbf\\x99\\x0fq\\x00\\xc0dz\\xed\\x92k\\xcc\\xfe\\xbfU\\x82\\x8b6C\\xf9\\xfe\\xbf\\x04\\xfc\\xdb\\xe4>I\\xff\\xbf6\\x8dP\\xe0[\\xf8\\xfe\\xbfH8\\xa4\\x86s\\xbb\\xfe\\xbf\\'\\x94\\x9aJ\\xfa\\x1c\\xfc\\xbfR#\\xea\\xc1\\x81Q\\xfd\\xbf\\xa0\\x03&\\xcb\\xa4A\\xfd\\xbf%\\x99\\x14\\xa0\\x1f\\xee\\xff\\xbf\\xc5\\x9b\\x9f\\\\\\xff\\xa8\\xfe\\xbf\\xf1$\\x12\\x1a\\xfb\\xb5\\x00\\xc0\\xc42\\xc6\\x1f\\xf6\\x16\\xff\\xbf\\xf3\\xd0\\xfd\\xf0\\x81\\x12\\xfd\\xbf\\xc4x|d;\\xeb\\x00\\xc0X0k\\x0e\\x82\\xf1\\xff\\xbfB\\xe7&K\\\\\\xe0\\xfd\\xbf1!\\x86 ~\\x87\\x00\\xc0FHz\\xa4\\x03\\xba\\xff\\xbf\\x0f\\x12\\xe1\\xe0\\x84\\x1a\\xfe\\xbf^\\x92\\xa7\\x05_\\xfb\\x00\\xc0j\\xca\\xe3\\xa3\\xa4\\xbb\\xff\\xbf\\x0e\\xbc*\\xb5\\xb6?\\xfe\\xbfz\\x9c\\x88\\xcf\\xb4\\x14\\xfc\\xbfsK_\\x93+\\xf0\\xfe\\xbf&\\x90h\\xbbo\\xd8\\xff\\xbf\\x98Z8\\x0e\\x91~\\x00\\xc0Aj\\xban\\xaf\\x8c\\xfe\\xbf\\xc5\\x19\\x98\\x1cD\\xe9\\xff\\xbfajA\\xabp\\xd0\\x00\\xc0n\\xa3\\xab\\xbbL1\\x00\\xc0\\xb5\\xb3;\\xe64\\x12\\x01\\xc06Dz)\\xf3\\xcd\\x00\\xc0M\\xed\\x19}]\\xaa\\xfe\\xbf\\xa9d\\r\\xd2\\xe4\\x96\\x01\\xc0Pa\\xb6\\xae\\xe2B\\x00\\xc0\\xf3A\\t\\x12_.\\x00\\xc0\\xc6}]\\xe6qy\\x00\\xc08)\\xde^Xr\\x01\\xc0\\x95i\\xba\\xf2\\xe7\\x90\\xfd\\xbf0{\\x0ch\\x7f\\xa2\\x00\\xc0[\"\\xa5F\\xd9@\\x02\\xc0\\xfe\\x88xN\\'\\xcb\\x00\\xc0#\\xc3\\xd6\\xde:\\x06\\x01\\xc0\\xc4\\xda\\x10\\xca\\x98\\xae\\x00\\xc0\\xdf\\x82y\\x83\\xc0*\\x01\\xc0\\x14\\xa5W\\xdf\\xcd>\\x00\\xc0\\x83\\xd0\\x81\\xb2\\x17\\x88\\x01\\xc0\\xbdk\\x913\\x9b\\xcf\\x00\\xc0#\\xbed\\xfa]\\x84\\x01\\xc0\\x07i\\xb9x\\xe7\\xa4\\x01\\xc0~\\xf0\\xb1&\\xdc(\\x00\\xc0t\\x0f\\x80\\xed\\x9d\\x13\\x01\\xc0\\xf8)\\x1a\\xad\\x9b\\x85\\x01\\xc0\\xd44\\xd4\\x9ay\\xc5\\x01\\xc0\\xed\\xde\\x9e\\xa8\\xeb\\xeb\\x00\\xc0\\x90w~\\xb9e\\x9b\\xff\\xbf\\xb3\\x9d\\x1f\\xe1\\xdcd\\x01\\xc0\\x80!\\x1b\\xb0\\xfa7\\xff\\xbf\\x7fN\\xd4\\xe1\\x07@\\x02\\xc0\\xd8L\\xc8KZ|\\x01\\xc0&\\x96f\\x83\\xe4B\\x02\\xc0\\x90\\x0bi\\xb5\\t\\x1d\\xfe\\xbf\\x92\\x1f\\xecr\\x1c\\x84\\x01\\xc0\\xd0v\\x17\\xeb\\xc5o\\x00\\xc0\\xa5r\\x9e\\xa7\\xbd\\xf9\\x00\\xc0\\xbb\\xd0\\'\\xb5\\xc1\\x9c\\x01\\xc0\"U\\x81K\\xe1L\\x01\\xc0\\xda\\x9c\\xd1\\xf6\\xb2\\xdc\\x01\\xc0j\\xc5q\\xbf\\xc7\\x15\\x01\\xc0w>\\xba\\x13\\x17\\xac\\x01\\xc0q\\xa2\\xe9.\\x81\\xa2\\x01\\xc0\\xa2\\x84\\xf9(\\xac\\xaf\\x01\\xc0\\xfdH\\x07\\xa7\\xe2\\xcb\\x01\\xc0SAT\\x00\\xddr\\x01\\xc0U\\x04V\\x13\\xe6\\xe3\\x00\\xc0\\xbf\\xfb\\x9e\\xe9\\t\\x99\\xff\\xbf\\xa4\\xceK\\xe1\\x1b\\x98\\x01\\xc0\\x83\\xf2\\x9c\\xff\\xe7\\xd8\\xff\\xbf\\x8f\\xba\\xa05tT\\x01\\xc0\\xb7\\x94\\xda(>\\xcc\\x00\\xc0\\xe6\\n\\xf9\\xe4\\x84$\\x01\\xc0g\\xeak\\x19M\\x0f\\x03\\xc0>7\\xb3\\xe4\\x91\\x12\\x01\\xc0\\xffr`K%z\\x01\\xc0\\x89\\xd0Y}\\xad/\\x02\\xc0)\\x17\\x027\\x8d\\x00\\x00\\xc0\\x8e\\xc5\\xdb\\xef\\xf5b\\x02\\xc0\\xeb\\x05q\\xae\\xf9\\xa6\\x01\\xc0\\xf9\\x0fL\\xe2j\\xc0\\x00\\xc0i%B]\\x83z\\x01\\xc0\\xa6\\x96\\xc9Ju4\\x02\\xc0\\xb3\\x92\\xd5\\xfb-h\\x01\\xc0A\\x8d\\xc4\\xc9\\xd2\\xe2\\x01\\xc0\\xa9\\xa2,\\x07pb\\x01\\xc0\\xac`\\x93\\xb6jW\\x01\\xc0\\x16zl\\xe7\\xd5\\xc6\\x01\\xc0\\x91?/\\x14d\\xab\\x01\\xc0\\x05$\\x9cA<%\\x03\\xc0\\xad\\x0f?\\x8d\\xe8K\\x03\\xc0I\\x93\\xc2$\\xab\\x9e\\x01\\xc0\\xb0\\xbd\\xa7V\\x85\\xf4\\x01\\xc0c\\x19\"t\\xbe\\xba\\x01\\xc0\\xf2\\x07\\xf4\\xa3\\x90\\xfd\\x00\\xc0Pc\\x8cY@\\xb2\\x01\\xc0\\xd0 YN\\xafu\\x02\\xc0;\\xe4\\xfe\\xd4\\x8c\\xed\\x01\\xc0\\xf7+\\x9f\\x10\\xfa\\x14\\x02\\xc0\\xc4\\xaa\\x90\\xde\\xaf\\x1b\\x02\\xc0C<!Z|\\x11\\x02\\xc0\\xba\\xf6\\x98W\\x943\\x02\\xc0\\xbbtkP6\\xe8\\x01\\xc0\\xf4Ok\\xf8\\xe8\\x9d\\x02\\xc0\\xe7\\x07_\\xac0\\x14\\x02\\xc0\\x15\\xf1f\\xa5\\xfa\\xea\\x01\\xc0*\\x97\\nM\\xb9B\\x02\\xc0Y8\\xe6\\xc8\\x0c|\\x02\\xc0t\\x1c\\x84({\\xa9\\x02\\xc0Qm3\\xbf\\xe1\\x98\\x03\\xc0\\xb4\\xb6r\\xf4\\xcd=\\x04\\xc0\\xb6\\xbb2h\\x1b\\x8d\\x02\\xc0\\x85\\xcd\\x00\\x17d\\xaf\\x02\\xc0\\x01\\n\\xcd,D\\x8e\\x02\\xc0\\x9c\\xd84\\xd0+\\xcb\\x01\\xc0\\xffU.\\xf1\\xd3\\xfa\\x03\\xc0\\x9dy\\x1b\\x96d\\xc3\\x02\\xc0h\\xbe\\xa6\\xaeL\\x81\\x00\\xc0\\xfcW\\xb6\\x0c\\xc1l\\x03\\xc0\\x9fV9\\x03\\x0f\\xbb\\x03\\xc0\\'\\xda\\x80\\xc8UZ\\x02\\xc0@\\xdb\\xfd9\\xeb\\xa0\\x00\\xc0\\x91\\xb2;`\\xfbj\\x02\\xc0\\xfc\\x9c/\\xb4BJ\\x02\\xc0J\\r\\xe9\\xc7\\x91\\x84\\x01\\xc0\\x08b\\x01\\x95\\xef\\xb2\\x03\\xc0\\xdb2\\xb5\\xac\\xc8\\xce\\x01\\xc0\\x03\\xca\\x04\\xce\\xe2\\xfd\\x02\\xc08\\x97MF\\xb6\\x0b\\x02\\xc0#\\x16\\xc4O\\x020\\x03\\xc0\\x0b\\xba\\xab\\xc1u\\xa5\\x02\\xc0^tr\\xb9\\xd3\\x87\\x02\\xc06\\x06\\xeeW9\\xe4\\x03\\xc0\\x96\\x80\\xf8\\xf67\\xe3\\x03\\xc0\\x1b=\\x98\\xc3\\xd7\\xf3\\x02\\xc0\\xc1\\x03Y\\x08\\xd8\\xf6\\x02\\xc0\\xd4\\xdf\\x94\\xb7\\xf8\\xa3\\x03\\xc0\\xa9\\xf5#\\xea\\xaa)\\x04\\xc0\\x113=Y\\x18;\\x04\\xc0\\x9cW\\xaf\\x01\\x95\\xb2\\x05\\xc0\\xb3\\x16\\x85\\xae[\\x94\\x02\\xc0b]\\xbe\\xf0\\xa8\\x1f\\x03\\xc0\\xec\\xb3\\x14\\xda\\x83\\x0e\\x04\\xc02\\x10\\xa3\\x9e@\\xcf\\x04\\xc0\\xed\\x13\\xfe\\x14\\xe0N\\x02\\xc0\\x89\\xfa\\x8f\\x12\\xdc<\\x02\\xc0\\xa6\\xee\\xbb\\x03\\xeb\\xad\\x03\\xc0\\x07\\xa6+\\xbc\\xf1\\x04\\x02\\xc0\\x84\\x97\\xa1p\\xc4\\xae\\x03\\xc0\\xff\\xfa]\\xe2\\x0c\\x11\\x02\\xc0\\x08\\xa8\\xadg\\xc19\\x02\\xc0\\xf0?\\x13\\x10|\\xa8\\x02\\xc0\\xd9OH0\\xaa\\xa4\\x04\\xc0\\x04\\x1e\\xb0\\\\\\x83c\\x05\\xc06tK\\\\\\xdb\\x9c\\x04\\xc0\\xc7O\\xfc{\\x9df\\x02\\xc0\\x8e\\x03=AS|\\x03\\xc0\\x1e\\xf4Xr\\x96\\x1b\\xfe\\xbf\\x7fb\\x92\\x01\\x08F\\x04\\xc0cK\\\\\\xb5\\xd5\\xce\\x03\\xc0\\x90\\xae\\xa9^D<\\x02\\xc0r\\xe9\\xdc\\x10\\x8a\\xb9\\x02\\xc0*m\\x83p\\x8b-\\xfd\\xbf\\xe1\\xdb\\xec\\xf6\\xf6\\xe6\\x04\\xc0\\xf8\\x17g*\\xc9\\xb8\\x04\\xc0\\xe4S\\x8b~\\xf0\\x92\\x05\\xc0\\x1a\\xcd>M5\\x08\\x05\\xc0\\xd9\\xfb\\xe0\\xbe\\x06\\x8b\\x03\\xc0\\xa4\\'\\xcf6\\xe3\\x12\\x03\\xc0\\xd4}\\x8e\\xfc\\xb2}\\x03\\xc0v\\xfabk\\x8d\\xe3\\x02\\xc0\\xde\\xe6\\xd9!\\x08\\xc8\\x03\\xc01\\xd5\\xd6\\xcc}\\xf9\\x05\\xc0v\\xb4\\xf3\\xfb\\xd3\\xdd\\x05\\xc0\\xaag\\xc2\\xa8\\x04y\\x04\\xc0K\\x9a\\xc5\\xdf\\x84\\xcf\\x03\\xc0\\t\\xb6\\xe9\\x86\\xa8\\xc1\\x04\\xc0|\\x90\\x8e@\\xf6\\x91\\x06\\xc0\\x077\\xb4)\\xa0\\xe6\\x04\\xc0\\xc0G\\xca\\x04f\\xb3\\x05\\xc0\\xa7)\\xeb\\xffh|\\x05\\xc0\\xf2\\xa0\\xab=\\x84\\n\\x05\\xc0\\xb22p\\xf9us\\x06\\xc0\\xb3m\\xa9gg\\xab\\x05\\xc0\\xb4=\\x89\\xee\\xaa\\xc2\\x05\\xc0Fh\\x99\\x7f\\xd3\\xe3\\x05\\xc0\\x9f\\x19d\\x95I\\x12\\x06\\xc0\\xc9\\xf9o\\x19\\xc8c\\x05\\xc0.\\xf7\\x1dQ\\x0e\\x1b\\x06\\xc0\\xe7.\\x083\\rU\\x06\\xc0[\\xde\\xa3\\x9e\\x08\\xb5\\x05\\xc0_\\x9bv\\xf9\"\\xe2\\x05\\xc0\\x11\\xe9\\x84\\xbe^\\xe7\\x03\\xc0\\xe0\\xa1\\xe6\\xb3U\\x84\\x02\\xc0g\\xc0\\x9dg\\x93K\\x05\\xc0%O\\xc4\\xe8\\xdaC\\x04\\xc0\\x0ei\\x84\\x19{x\\x06\\xc0*\\xe7-L\\x16\\xcf\\x06\\xc0\\x17\\xa8\\x13p\\xd2\\xc3\\x07\\xc0\\xb8n6\\x95\\xc6i\\x07\\xc0\\xe1\\xc4\\t\\xac\\x19\\xa2\\xfe\\xbf\\xb1\\xc5\\x99\\x1f\\xb22\\xfe\\xbf|\\t1q\\x8d\\xba\\xfd\\xbf\\xc3\\x8b\\x95\\x03\\x03\\xe9\\xfe\\xbf\\x99\\x9c\\xf6n\\xd5h\\xff\\xbf8\\xe4U\\x8c\\xa9\\x8a\\xfe\\xbfW\\xc6\\x93\\x98\\xf8\\x9f\\xfe\\xbf\\x9aso\\xccR\\xc5\\xfe\\xbf\\x1dR\\xdcVR\\x85\\xfd\\xbf\\x87)1\\xd2\\x02E\\x00\\xc0\\x8f^&\\xed\\xba\\xe5\\xfe\\xbf\\x02\\r\\x9eX\\x93\\xb6\\xfe\\xbf\\x7f\\x03\\xf8F+Y\\x00\\xc0\\xf0<\\xc3dB\\xa5\\xfe\\xbf\\xa6\\xe4S\\x02\\x8d\\x12\\xff\\xbf>\"\\xed\\x19\\x9e\\x13\\xfe\\xbf\\xfaP2\\xd1\\xd1N\\xff\\xbf\\x05u\\x0e\\xc1\\x181\\x00\\xc0\\x9a\\x18\\x95K\\x18V\\x00\\xc0\\xe4W 86\\x8c\\xff\\xbf\\xe8\\xa9\\x94\\xf2\\xe8\\x7f\\x00\\xc0\\x1cB\\xe1(\\x83\\xb3\\x00\\xc0C*\\x0ee}\\x9a\\xff\\xbf\\xf0n\\xbb\\x89\\x87c\\x00\\xc0\\xcf\\xcc\\xa8\\x06U\\x0b\\x00\\xc0\\xaeh\\xe5\\xf1\\xc3\\xdf\\xff\\xbf\\xff\\xa2\\x15)\\xde2\\xff\\xbf\\x17\\xe9\\xbf\\xb3\\xaf\\xbf\\xfd\\xbf`\\x0b\\x8eS\\xf3\\x83\\xff\\xbf \\xf3\\x1a\\x1eo\\xf8\\xfe\\xbf0^\\x8e\\x7f\\xe8\\xa3\\x00\\xc0\\xaf\\xb8\\x93\\xe3\\xa9J\\xff\\xbfUKL\\xad}\\x05\\x01\\xc0\\xe0\\xec\\xbd\\x95x\\x12\\x00\\xc0\\x92\\x85\\x10\\xd9\\x05\\x18\\xff\\xbf\\xf4\\xc7:p\\\\\\xe7\\x00\\xc0\\xf2\\xdd\\xd1\\xf2H\\x97\\x00\\xc0>\\xcd\\x82\\xb6\\xc0\\xc1\\xff\\xbf\\xbceY\\xc0\\x9c\\n\\x01\\xc0\\'\\x02\\xd7@\\xb36\\x00\\xc0\\xe9\\x94Ta\\xc4\\xfa\\xfe\\xbf\\xa8!\\xa2\\x7f\\x1f\\x19\\x01\\xc0\\x9d\\x87\\xfc\\xfb\\xd8A\\x00\\xc0\\xc4\\xf3\\x8c\\\\\\xbb\\t\\x00\\xc0\\xcd\\r\\xf0\\x1eL\\xfc\\xfd\\xbf\\x86\\x95[q\\xa9\\x1e\\x00\\xc0\\xc0\\xb5\\xf7\\xcf\\xf1&\\x01\\xc0\\xc8\\xcb\\xa7\\x82\\xe2\\xc7\\x00\\xc0\\xf5\\xb3`\\xfb,\\xfb\\xfe\\xbf\\xc3\\xaa\\xa7z%\\xed\\xff\\xbf\\x1b\\x00\\xa7\\x00\\xe3\\x08\\x01\\xc0(\\xa2\\xb5[\\xf8y\\x00\\xc0\\x1fc\\x00>\\xfe\\x82\\x01\\xc00\\xb6\\x9e\\x8e\\xb8)\\x01\\xc0\\x98\\xf5~}V\\xbc\\xfe\\xbfX\\xfd\\x07\\x14\\x8e\\xc5\\x01\\xc0\\xa1\\x15,\\x96\\xa1\\x80\\x00\\xc0t\\x17\\x8e\\x0b\\xfa\\xf3\\x00\\xc0\\xa1\\xb6\\xa8w:\\xa9\\x00\\xc0j\\xd02\\xb3\\x18:\\x02\\xc0q E\\x19\\x81\\x13\\xfe\\xbf\\x1f}TB\\xfe\\xf1\\x00\\xc0\\xaaO\\xb6\\xa4J\\xa8\\x02\\xc0\\x04aSY\\xa7M\\x01\\xc06\\xf5\\xbcF\\x8b\\x9a\\x01\\xc0\\xa5\\x9b\\xf7\\x11U\\xee\\x00\\xc0\\x84\\xd5\\xf0\\xdee\\x1f\\x01\\xc0\\x9a\\x02\\x80\\x00\\xa5\\xf7\\x00\\xc0@Z\\x0b\\xcf%\\x1e\\x02\\xc0>\\xb3J\\x07\\xf0\\x18\\x01\\xc0\\xe8\\x0bT\\xd8\\xa2\\xc3\\x01\\xc0\\x03\\xdb\\x81m\\xd6\\xba\\x01\\xc0\\x99\\xb4\\x95\\xd6`\\x1f\\x01\\xc0\\xf3\\xee\\xc5\\xa0\\xdec\\x01\\xc0\\xb3\\xb71\\xc9\\n2\\x02\\xc0\\t}\\xf5`n}\\x02\\xc0\\x16zl\\xe7\\xd5\\xc6\\x01\\xc0f(\\xb9\\x86\\xc3u\\x00\\xc0&Y$y\\xf0\\xd3\\x01\\xc0\\x19F\\xf3`\\x88=\\xff\\xbf\\xeb\\xfc9\\xd7\\xc0V\\x02\\xc0\\xb5\\r\\x13u59\\x02\\xc0\\x90\\x82\\x14-Z\\xe3\\x02\\xc0\\xc4\\x13\\n\\xa9\\x8c\\x07\\x00\\xc0\\xc4XP_i\\x99\\x01\\xc0\\x9a=\\xbc&%\\xee\\x00\\xc0\\xe8$zj\\x0c\\xa6\\x01\\xc0\\xef\\xffF\\xaf\\xc4o\\x02\\xc0\\xa3\\x8b\\xf7*\\xccw\\x01\\xc0\\x84R?e\\xb8*\\x02\\xc0_\\xd7\\xd1f\\x0c\\xaf\\x01\\xc0\\xc0\\xa8\\xa7\\x06\\xcfU\\x02\\xc0s;1t\\xb7\\xe6\\x01\\xc0\\x9b\\x90\\xd6\\x18t\\xde\\x01\\xc0\\xed8\\xcc7\\xa5\\xdf\\x01\\xc0\\xcc\\xef\\x9c|f\\xb4\\x01\\xc0\\x0ek\\xe3\\xb56\\x08\\x01\\xc0\\xc4\\xee\\xb2\\x94iV\\x00\\xc0\\xffT\\x058\\xf7>\\x02\\xc08\\xc4\\xf9M\\xc1\\xe3\\x00\\xc0\\xac`\\x98o$\\x88\\x01\\xc0\\xd9\\xf8N\\xf7\\xfa\\x85\\x01\\xc0\\x97\\x97\\xef%\\xfcn\\x01\\xc0\\xf7&\\xa4:\\xbf\"\\x03\\xc0\\xdaG\\x16L\\xd6\\xd6\\x01\\xc0\\xcfi\\x83\\x04\\xa6\\x1e\\x02\\xc0\\x90\\xea\\xab\\x13\\xe6\\x15\\x02\\xc0\\x14\\x06\\x19\\x8c\\x07?\\x00\\xc0\\x9d\\xf7q\\xc7\\xaa\\'\\x02\\xc0\\xd2\\x05\\x9cu+_\\x02\\xc0\\xeaqTx\\x14b\\x01\\xc0g\\x0f\\xfb\\xd7\\xce\\x08\\x02\\xc0\\x0e\\x92\\xd3\\x11\\x9f3\\x02\\xc0\\x8fQ\\xa32\\xf3 \\x02\\xc0\\x18}\\x86\\xe9\\xdb{\\x02\\xc04\\xf3\\xc3\\x8c\\x19\\xfe\\x01\\xc0DO\\x83\\xcf\\xfa\\'\\x02\\xc0CLp\\x87\\xd9I\\x02\\xc0i\\x84:\\x89ao\\x02\\xc0}\\xb1\"c\\xe8.\\x03\\xc0\\x87E\\xe9+xH\\x03\\xc0[F;\\x85\\x94;\\x02\\xc0\\xd6\\x0bE\\x87\\xaez\\x02\\xc0\\x82\\xf1Z\\xa9j\\xad\\x02\\xc0\\xf7\\x93@i\\xf9\\xdc\\x01\\xc0r\\x1f\\x1ea\\xcf\\x89\\x02\\xc0;\\xa7. \\x81\\xa1\\x02\\xc0\\x0c\\x86\\xd0\\xc7\\xd0\\xa3\\x02\\xc0\\x929@w\\x1c\\x8f\\x02\\xc0\\xe4v\\xdc\\xae\\x9f\\xfb\\x01\\xc0\\x87)x\\xa7\\x8e\\xbf\\x02\\xc0J\\xe0Ay@\\x95\\x02\\xc0\\x04\\x83\\x8f\\xb4`\\xa9\\x02\\xc0#\\xf8| \\xbb\\xb7\\x02\\xc0\\xcf\\xa8\\xf6rj>\\x02\\xc0\\x1d1}&0\\xf2\\x01\\xc0\\xff\\xfb\\xcdpu\\'\\x02\\xc08\\x1a\\xd4?\\x07\\x84\\x02\\xc0D\\xfce%\\x1d\\xcd\\x02\\xc0\\xcd\\xcb\\xfe\\xccb\\x9a\\x03\\xc0\\x80\\xb5:\\x9en\\xdb\\x03\\xc0\\xb5\\x8c\\x8d\\xa6\\x9e\\x88\\x02\\xc0\\x98\\xc0\\x15\\x9f\\xee\\x7f\\x03\\xc0\\xa8\\x98\\x8aZ\\x88\\x8c\\x02\\xc0:ai\\xb0\\x0e?\\"
     ]
    },
    {
     "data": {
      "text/html": [
       "<b>limit_output extension: Maximum message size of 10000 exceeded with 556046 characters</b>"
      ]
     },
     "metadata": {},
     "output_type": "display_data"
    }
   ],
   "source": [
    "\n",
    "print(chloro_data)"
   ]
  },
  {
   "cell_type": "code",
   "execution_count": 4,
   "metadata": {},
   "outputs": [
    {
     "name": "stdout",
     "output_type": "stream",
     "text": [
      "--- downloading with urllib2\n"
     ]
    },
    {
     "ename": "NameError",
     "evalue": "name 'ip_names' is not defined",
     "output_type": "error",
     "traceback": [
      "\u001b[0;31m---------------------------------------------------------------------------\u001b[0m",
      "\u001b[0;31mNameError\u001b[0m                                 Traceback (most recent call last)",
      "\u001b[0;32m<ipython-input-4-fbd5f2e0ec1e>\u001b[0m in \u001b[0;36m<module>\u001b[0;34m()\u001b[0m\n\u001b[1;32m      1\u001b[0m \u001b[0mprint\u001b[0m\u001b[0;34m(\u001b[0m\u001b[0;34m\"--- downloading with urllib2\"\u001b[0m\u001b[0;34m)\u001b[0m\u001b[0;34m\u001b[0m\u001b[0m\n\u001b[1;32m      2\u001b[0m \u001b[0;34m\u001b[0m\u001b[0m\n\u001b[0;32m----> 3\u001b[0;31m \u001b[0;32mfor\u001b[0m \u001b[0;34m(\u001b[0m\u001b[0murl\u001b[0m\u001b[0;34m,\u001b[0m \u001b[0mname\u001b[0m\u001b[0;34m)\u001b[0m \u001b[0;32min\u001b[0m \u001b[0mzip\u001b[0m\u001b[0;34m(\u001b[0m\u001b[0msparc_url\u001b[0m\u001b[0;34m,\u001b[0m \u001b[0mip_names\u001b[0m\u001b[0;34m)\u001b[0m\u001b[0;34m:\u001b[0m\u001b[0;34m\u001b[0m\u001b[0m\n\u001b[0m\u001b[1;32m      4\u001b[0m     \u001b[0mf\u001b[0m \u001b[0;34m=\u001b[0m \u001b[0murllib\u001b[0m\u001b[0;34m.\u001b[0m\u001b[0mrequest\u001b[0m\u001b[0;34m.\u001b[0m\u001b[0murlopen\u001b[0m\u001b[0;34m(\u001b[0m\u001b[0murl\u001b[0m\u001b[0;34m)\u001b[0m\u001b[0;34m\u001b[0m\u001b[0m\n\u001b[1;32m      5\u001b[0m     \u001b[0mdata\u001b[0m \u001b[0;34m=\u001b[0m \u001b[0mf\u001b[0m\u001b[0;34m.\u001b[0m\u001b[0mread\u001b[0m\u001b[0;34m(\u001b[0m\u001b[0;34m)\u001b[0m\u001b[0;34m\u001b[0m\u001b[0m\n",
      "\u001b[0;31mNameError\u001b[0m: name 'ip_names' is not defined"
     ]
    }
   ],
   "source": [
    "print(\"--- downloading with urllib2\")\n",
    "\n",
    "for (url, name) in zip(sparc_url, ip_names):\n",
    "    f = urllib.request.urlopen(url)\n",
    "    data = f.read()\n",
    "    with open(name, \"wb\") as code:\n",
    "        code.write(data)"
   ]
  },
  {
   "cell_type": "code",
   "execution_count": null,
   "metadata": {},
   "outputs": [],
   "source": []
  }
 ],
 "metadata": {
  "kernelspec": {
   "display_name": "Python 3",
   "language": "python",
   "name": "python3"
  },
  "language_info": {
   "codemirror_mode": {
    "name": "ipython",
    "version": 3
   },
   "file_extension": ".py",
   "mimetype": "text/x-python",
   "name": "python",
   "nbconvert_exporter": "python",
   "pygments_lexer": "ipython3",
   "version": "3.6.4"
  },
  "toc": {
   "nav_menu": {},
   "number_sections": true,
   "sideBar": true,
   "skip_h1_title": false,
   "title_cell": "Table of Contents",
   "title_sidebar": "Contents",
   "toc_cell": false,
   "toc_position": {},
   "toc_section_display": true,
   "toc_window_display": false
  },
  "varInspector": {
   "cols": {
    "lenName": 16,
    "lenType": 16,
    "lenVar": 40
   },
   "kernels_config": {
    "python": {
     "delete_cmd_postfix": "",
     "delete_cmd_prefix": "del ",
     "library": "var_list.py",
     "varRefreshCmd": "print(var_dic_list())"
    },
    "r": {
     "delete_cmd_postfix": ") ",
     "delete_cmd_prefix": "rm(",
     "library": "var_list.r",
     "varRefreshCmd": "cat(var_dic_list()) "
    }
   },
   "types_to_exclude": [
    "module",
    "function",
    "builtin_function_or_method",
    "instance",
    "_Feature"
   ],
   "window_display": false
  }
 },
 "nbformat": 4,
 "nbformat_minor": 2
}
