{
 "cells": [
  {
   "cell_type": "code",
   "execution_count": 1,
   "metadata": {},
   "outputs": [],
   "source": [
    "# import appropriate packages\n",
    "import urllib.request\n",
    "import scipy.io as sio\n",
    "import pickle\n",
    "import os"
   ]
  },
  {
   "cell_type": "markdown",
   "metadata": {},
   "source": [
    "Write down the urls and names of appropriate files."
   ]
  },
  {
   "cell_type": "code",
   "execution_count": 2,
   "metadata": {},
   "outputs": [],
   "source": [
    "# URLS of the sample dataset\n",
    "ip_urls = list()\n",
    "ip_urls.append(\"http://www.ehu.eus/ccwintco/uploads/2/22/Indian_pines.mat\")\n",
    "ip_urls.append(\"http://www.ehu.eus/ccwintco/uploads/6/67/Indian_pines_corrected.mat\")\n",
    "ip_urls.append(\"http://www.ehu.eus/ccwintco/uploads/c/c4/Indian_pines_gt.mat\")\n",
    "\n",
    "ip_names = list()\n",
    "ip_names.append('Indian_pines.mat')\n",
    "ip_names.append('Indian_pines_corrected.mat')\n",
    "ip_names.append('Indian_pines_gt.mat')\n",
    "\n",
    "data_names = list()\n",
    "data_names.append('indian_pines')\n",
    "data_names.append('indian_pines_corrected')\n",
    "data_names.append('indian_pines_gt')"
   ]
  },
  {
   "cell_type": "markdown",
   "metadata": {},
   "source": [
    "Read the url and save the files as .mat files.\n",
    "\n",
    "Source:\n",
    "https://www.blog.pythonlibrary.org/2012/06/07/python-101-how-to-download-a-file/\n",
    "https://docs.scipy.org/doc/scipy-0.18.1/reference/tutorial/io.html"
   ]
  },
  {
   "cell_type": "code",
   "execution_count": 3,
   "metadata": {},
   "outputs": [
    {
     "name": "stdout",
     "output_type": "stream",
     "text": [
      "--- downloading with urllib2\n"
     ]
    }
   ],
   "source": [
    "print(\"--- downloading with urllib2\")\n",
    "\n",
    "for (url, name) in zip(ip_urls, ip_names):\n",
    "    f = urllib.request.urlopen(url)\n",
    "    data = f.read()\n",
    "    with open(name, \"wb\") as code:\n",
    "        code.write(data)"
   ]
  },
  {
   "cell_type": "markdown",
   "metadata": {},
   "source": [
    "Read in the .mat files."
   ]
  },
  {
   "cell_type": "code",
   "execution_count": 4,
   "metadata": {
    "collapsed": true
   },
   "outputs": [],
   "source": [
    "# create an empty dictionary to hold the data \n",
    "hsi_data = {}\n",
    "\n",
    "# loop through key and filename\n",
    "for name, file in zip(data_names, ip_names):\n",
    "    \n",
    "    # import .mat file\n",
    "    temp = sio.loadmat(file)\n",
    "    \n",
    "    # save hsi data in dictionary\n",
    "    hsi_data[name] = temp[name]"
   ]
  },
  {
   "cell_type": "code",
   "execution_count": 5,
   "metadata": {
    "collapsed": true
   },
   "outputs": [],
   "source": [
    "# Save data in pickle file\n",
    "with open('indianpines.pickle', 'wb') as handle:\n",
    "    pickle.dump(hsi_data, handle, protocol=pickle.HIGHEST_PROTOCOL)\n",
    "    "
   ]
  },
  {
   "cell_type": "code",
   "execution_count": 6,
   "metadata": {},
   "outputs": [
    {
     "name": "stdout",
     "output_type": "stream",
     "text": [
      "Data w/ key indian_pines is the same: True\n",
      "Data w/ key indian_pines_corrected is the same: True\n",
      "Data w/ key indian_pines_gt is the same: True\n"
     ]
    }
   ],
   "source": [
    "# check if the files are the same\n",
    "with open('indianpines.pickle', 'rb') as handle:\n",
    "    temp = pickle.load(handle)\n",
    "    \n",
    "for key in hsi_data.keys():\n",
    "    \n",
    "    verdict = hsi_data[key].all()==temp[key].all()\n",
    "    print('Data w/ key {k} is the same: {t}'.format(k=key, t=verdict))"
   ]
  },
  {
   "cell_type": "code",
   "execution_count": 7,
   "metadata": {},
   "outputs": [],
   "source": [
    "# remote data from directory\n"
   ]
  },
  {
   "cell_type": "code",
   "execution_count": null,
   "metadata": {
    "collapsed": true
   },
   "outputs": [],
   "source": []
  }
 ],
 "metadata": {
  "kernelspec": {
   "display_name": "Python 3",
   "language": "python",
   "name": "python3"
  },
  "language_info": {
   "codemirror_mode": {
    "name": "ipython",
    "version": 3
   },
   "file_extension": ".py",
   "mimetype": "text/x-python",
   "name": "python",
   "nbconvert_exporter": "python",
   "pygments_lexer": "ipython3",
   "version": "3.6.4"
  },
  "toc": {
   "nav_menu": {},
   "number_sections": true,
   "sideBar": true,
   "skip_h1_title": false,
   "title_cell": "Table of Contents",
   "title_sidebar": "Contents",
   "toc_cell": false,
   "toc_position": {},
   "toc_section_display": true,
   "toc_window_display": false
  },
  "varInspector": {
   "cols": {
    "lenName": 16,
    "lenType": 16,
    "lenVar": 40
   },
   "kernels_config": {
    "python": {
     "delete_cmd_postfix": "",
     "delete_cmd_prefix": "del ",
     "library": "var_list.py",
     "varRefreshCmd": "print(var_dic_list())"
    },
    "r": {
     "delete_cmd_postfix": ") ",
     "delete_cmd_prefix": "rm(",
     "library": "var_list.r",
     "varRefreshCmd": "cat(var_dic_list()) "
    }
   },
   "types_to_exclude": [
    "module",
    "function",
    "builtin_function_or_method",
    "instance",
    "_Feature"
   ],
   "window_display": false
  }
 },
 "nbformat": 4,
 "nbformat_minor": 2
}
