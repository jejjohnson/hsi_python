{
 "cells": [
  {
   "cell_type": "markdown",
   "metadata": {},
   "source": [
    "# Regression Demo"
   ]
  },
  {
   "cell_type": "markdown",
   "metadata": {},
   "source": [
    "### Grab Data"
   ]
  },
  {
   "cell_type": "code",
   "execution_count": 1,
   "metadata": {},
   "outputs": [],
   "source": [
    "import numpy as np\n",
    "from data_acquisition.get_data import load_sparc\n",
    "from sklearn.datasets import load_boston\n",
    "from sklearn.metrics import mean_squared_error\n",
    "from sklearn.model_selection import GridSearchCV\n",
    "from sklearn.preprocessing import scale"
   ]
  },
  {
   "cell_type": "code",
   "execution_count": 2,
   "metadata": {},
   "outputs": [],
   "source": [
    "boston = load_boston()\n",
    "x, y = boston.data, boston.target\n",
    "\n",
    "y_pred = {}\n",
    "mse = {}"
   ]
  },
  {
   "cell_type": "markdown",
   "metadata": {},
   "source": [
    "### Splitting into Training and Testing"
   ]
  },
  {
   "cell_type": "code",
   "execution_count": 3,
   "metadata": {},
   "outputs": [],
   "source": [
    "from sklearn.model_selection import train_test_split"
   ]
  },
  {
   "cell_type": "code",
   "execution_count": 4,
   "metadata": {},
   "outputs": [
    {
     "name": "stdout",
     "output_type": "stream",
     "text": [
      "Size of training, testing: (404, 13), (102, 13)\n"
     ]
    },
    {
     "name": "stderr",
     "output_type": "stream",
     "text": [
      "/Users/eman/anaconda3/envs/hsipy/lib/python3.6/site-packages/sklearn/model_selection/_split.py:2026: FutureWarning: From version 0.21, test_size will always complement train_size unless both are specified.\n",
      "  FutureWarning)\n"
     ]
    }
   ],
   "source": [
    "random_state = 123\n",
    "train_percent = 0.8\n",
    "\n",
    "x, y = scale(x), scale(y)\n",
    "    \n",
    "x_train, x_test, y_train, y_test = train_test_split(x, y, train_size=train_percent)\n",
    "\n",
    "print('Size of training, testing: {}, {}'.format(x_train.shape, x_test.shape))"
   ]
  },
  {
   "cell_type": "markdown",
   "metadata": {},
   "source": [
    "## Regression Methods"
   ]
  },
  {
   "cell_type": "markdown",
   "metadata": {},
   "source": [
    "### Linear Regression"
   ]
  },
  {
   "cell_type": "code",
   "execution_count": 5,
   "metadata": {},
   "outputs": [],
   "source": [
    "from sklearn.linear_model import LinearRegression"
   ]
  },
  {
   "cell_type": "code",
   "execution_count": 6,
   "metadata": {},
   "outputs": [],
   "source": [
    "ols_model = LinearRegression()\n",
    "\n",
    "ols_model.fit(x_train, y_train)\n",
    "\n",
    "y_pred['ols'] = ols_model.predict(x_test)"
   ]
  },
  {
   "cell_type": "code",
   "execution_count": 7,
   "metadata": {},
   "outputs": [
    {
     "name": "stdout",
     "output_type": "stream",
     "text": [
      "MSE, OLS: 0.2110\n"
     ]
    }
   ],
   "source": [
    "mse['ols'] = mean_squared_error(y_pred['ols'], y_test)\n",
    "\n",
    "print('MSE, OLS: {:.4f}'.format(mse['ols']))"
   ]
  },
  {
   "cell_type": "markdown",
   "metadata": {},
   "source": [
    "### Regularized Linear Regression"
   ]
  },
  {
   "cell_type": "code",
   "execution_count": 8,
   "metadata": {},
   "outputs": [],
   "source": [
    "from sklearn.linear_model import Ridge"
   ]
  },
  {
   "cell_type": "code",
   "execution_count": 9,
   "metadata": {},
   "outputs": [],
   "source": [
    "param_grid = {\n",
    "    'alpha': np.linspace(0.01, 10, 20)\n",
    "}\n",
    "grid_search = GridSearchCV(\n",
    "    Ridge(),\n",
    "    param_grid=param_grid\n",
    ")\n",
    "\n",
    "grid_search.fit(x_train, y_train)\n",
    "\n",
    "rls_model = grid_search.best_estimator_\n",
    "\n",
    "y_pred['rls'] = rls_model.predict(x_test)"
   ]
  },
  {
   "cell_type": "code",
   "execution_count": 10,
   "metadata": {},
   "outputs": [
    {
     "name": "stdout",
     "output_type": "stream",
     "text": [
      "MSE, RLS: 0.2113\n"
     ]
    }
   ],
   "source": [
    "mse['rls'] = mean_squared_error(y_pred['rls'], y_test)\n",
    "\n",
    "print('MSE, RLS: {:.4f}'.format(mse['rls']))"
   ]
  },
  {
   "cell_type": "markdown",
   "metadata": {},
   "source": [
    "### Least Absolute Shrinkage and Selection Operator (LASSO)\n"
   ]
  },
  {
   "cell_type": "code",
   "execution_count": 11,
   "metadata": {},
   "outputs": [],
   "source": [
    "from sklearn.linear_model import LassoCV"
   ]
  },
  {
   "cell_type": "code",
   "execution_count": 12,
   "metadata": {},
   "outputs": [],
   "source": [
    "alphas = np.linspace(0.01, 10, 20)\n",
    "\n",
    "lasso_model = LassoCV(alphas=alphas)\n",
    "\n",
    "lasso_model.fit(x_train, y_train)\n",
    "\n",
    "y_pred['lasso'] = lasso_model.predict(x_test)"
   ]
  },
  {
   "cell_type": "code",
   "execution_count": 13,
   "metadata": {},
   "outputs": [
    {
     "name": "stdout",
     "output_type": "stream",
     "text": [
      "MSE, Lasso: 0.2174\n"
     ]
    }
   ],
   "source": [
    "mse['lasso'] = mean_squared_error(y_pred['lasso'], y_test)\n",
    "\n",
    "print('MSE, Lasso: {:.4f}'.format(mse['lasso']))"
   ]
  },
  {
   "cell_type": "markdown",
   "metadata": {},
   "source": [
    "### Elastic Net"
   ]
  },
  {
   "cell_type": "code",
   "execution_count": 14,
   "metadata": {},
   "outputs": [],
   "source": [
    "from sklearn.linear_model import ElasticNetCV"
   ]
  },
  {
   "cell_type": "code",
   "execution_count": 15,
   "metadata": {},
   "outputs": [],
   "source": [
    "alphas = np.linspace(0.01, 10, 20)\n",
    "\n",
    "elastic_model = ElasticNetCV(alphas=alphas)\n",
    "\n",
    "elastic_model.fit(x_train, y_train)\n",
    "\n",
    "y_pred['elastic'] = elastic_model.predict(x_test)"
   ]
  },
  {
   "cell_type": "code",
   "execution_count": 16,
   "metadata": {},
   "outputs": [
    {
     "name": "stdout",
     "output_type": "stream",
     "text": [
      "MSE, Elastic: 0.2129\n"
     ]
    }
   ],
   "source": [
    "mse['elastic'] = mean_squared_error(y_pred['elastic'], y_test)\n",
    "\n",
    "print('MSE, Elastic: {:.4f}'.format(mse['elastic']))"
   ]
  },
  {
   "cell_type": "markdown",
   "metadata": {},
   "source": [
    "## Nearest Neighbors Methods"
   ]
  },
  {
   "cell_type": "markdown",
   "metadata": {},
   "source": [
    "### K-Nearest Neighbors"
   ]
  },
  {
   "cell_type": "code",
   "execution_count": 17,
   "metadata": {},
   "outputs": [],
   "source": [
    "from sklearn.neighbors import KNeighborsRegressor"
   ]
  },
  {
   "cell_type": "code",
   "execution_count": 18,
   "metadata": {},
   "outputs": [],
   "source": [
    "param_grid = {\n",
    "    'n_neighbors': [1, 2, 3, 4, 5, 10, 25, 40, 50],\n",
    "    'weights': ['uniform', 'distance'],\n",
    "    'p': [1, 2]\n",
    "}\n",
    "\n",
    "grid_search = GridSearchCV(\n",
    "    KNeighborsRegressor(),\n",
    "    param_grid=param_grid\n",
    ")\n",
    "\n",
    "\n",
    "grid_search.fit(x_train, y_train)\n",
    "\n",
    "knn_model = grid_search.best_estimator_\n",
    "\n",
    "y_pred['knn'] = knn_model.predict(x_test)"
   ]
  },
  {
   "cell_type": "code",
   "execution_count": 19,
   "metadata": {},
   "outputs": [
    {
     "name": "stdout",
     "output_type": "stream",
     "text": [
      "MSE, KNN: 0.1409\n"
     ]
    }
   ],
   "source": [
    "mse['knn'] = mean_squared_error(y_pred['knn'], y_test)\n",
    "\n",
    "print('MSE, KNN: {:.4f}'.format(mse['knn']))"
   ]
  },
  {
   "cell_type": "markdown",
   "metadata": {},
   "source": [
    "## Tree Models "
   ]
  },
  {
   "cell_type": "markdown",
   "metadata": {},
   "source": [
    "### Decision Trees"
   ]
  },
  {
   "cell_type": "code",
   "execution_count": 20,
   "metadata": {},
   "outputs": [],
   "source": [
    "from sklearn.tree import DecisionTreeRegressor"
   ]
  },
  {
   "cell_type": "code",
   "execution_count": 21,
   "metadata": {},
   "outputs": [],
   "source": [
    "param_grid = {\n",
    "    'criterion': ['mse', 'mae'],\n",
    "    'splitter': ['best', 'random']\n",
    "}\n",
    "\n",
    "dt_model = DecisionTreeRegressor(random_state=random_state)\n",
    "\n",
    "grid_search = GridSearchCV(\n",
    "    dt_model,\n",
    "    param_grid=param_grid)\n",
    "\n",
    "grid_search.fit(x_train, y_train)\n",
    "\n",
    "dt_model = grid_search.best_estimator_\n",
    "\n",
    "y_pred['dt'] = dt_model.predict(x_test)"
   ]
  },
  {
   "cell_type": "code",
   "execution_count": 22,
   "metadata": {},
   "outputs": [
    {
     "name": "stdout",
     "output_type": "stream",
     "text": [
      "MSE, DT: 0.3700\n"
     ]
    }
   ],
   "source": [
    "mse['dt'] = mean_squared_error(y_pred['dt'], y_test)\n",
    "\n",
    "print('MSE, DT: {:.4f}'.format(mse['dt']))"
   ]
  },
  {
   "cell_type": "markdown",
   "metadata": {},
   "source": [
    "### Bagging Trees"
   ]
  },
  {
   "cell_type": "code",
   "execution_count": 23,
   "metadata": {},
   "outputs": [],
   "source": [
    "from sklearn.ensemble import BaggingRegressor"
   ]
  },
  {
   "cell_type": "code",
   "execution_count": 24,
   "metadata": {},
   "outputs": [],
   "source": [
    "param_grid = {\n",
    "    'base_estimator__criterion': ['mse', 'mae'],\n",
    "    'base_estimator__splitter': ['best', 'random'],\n",
    "    'n_estimators': [10, 20, 30, 40, 50, 60]\n",
    "}\n",
    "\n",
    "dt_model = DecisionTreeRegressor(random_state=random_state)\n",
    "bagging_model = BaggingRegressor(base_estimator=dt_model)\n",
    "\n",
    "grid_search = GridSearchCV(\n",
    "    bagging_model,\n",
    "    param_grid=param_grid)\n",
    "\n",
    "grid_search.fit(x_train, y_train)\n",
    "\n",
    "bagging_model = grid_search.best_estimator_\n",
    "\n",
    "y_pred['bagging'] = bagging_model.predict(x_test)"
   ]
  },
  {
   "cell_type": "code",
   "execution_count": 25,
   "metadata": {},
   "outputs": [
    {
     "name": "stdout",
     "output_type": "stream",
     "text": [
      "MSE, Bagging: 0.1470\n"
     ]
    }
   ],
   "source": [
    "mse['bagging'] = mean_squared_error(y_pred['bagging'], y_test)\n",
    "\n",
    "print('MSE, Bagging: {:.4f}'.format(mse['bagging']))"
   ]
  },
  {
   "cell_type": "markdown",
   "metadata": {},
   "source": [
    "### AdaBoost Regression"
   ]
  },
  {
   "cell_type": "code",
   "execution_count": 26,
   "metadata": {},
   "outputs": [],
   "source": [
    "from sklearn.ensemble import AdaBoostRegressor"
   ]
  },
  {
   "cell_type": "code",
   "execution_count": 27,
   "metadata": {},
   "outputs": [],
   "source": [
    "param_grid = {\n",
    "    'base_estimator__criterion': ['mse', 'mae'],\n",
    "    'base_estimator__splitter': ['best', 'random'],\n",
    "    'n_estimators': [10, 20, 30, 40, 50, 60],\n",
    "    'loss': ['linear', 'square']\n",
    "}\n",
    "\n",
    "dt_model = DecisionTreeRegressor(random_state=random_state,\n",
    "                                 )\n",
    "adaboost_model = AdaBoostRegressor(base_estimator=dt_model)\n",
    "\n",
    "grid_search = GridSearchCV(\n",
    "    adaboost_model,\n",
    "    param_grid=param_grid)\n",
    "\n",
    "grid_search.fit(x_train, y_train)\n",
    "\n",
    "adaboost_model = grid_search.best_estimator_\n",
    "\n",
    "y_pred['adaboost'] = adaboost_model.predict(x_test)"
   ]
  },
  {
   "cell_type": "code",
   "execution_count": 28,
   "metadata": {},
   "outputs": [
    {
     "name": "stdout",
     "output_type": "stream",
     "text": [
      "MSE, Adaboost: 0.2162\n"
     ]
    }
   ],
   "source": [
    "mse['adaboost'] = mean_squared_error(y_pred['adaboost'], y_test)\n",
    "\n",
    "print('MSE, Adaboost: {:.4f}'.format(mse['adaboost']))"
   ]
  },
  {
   "cell_type": "markdown",
   "metadata": {},
   "source": [
    "### Random Forest"
   ]
  },
  {
   "cell_type": "code",
   "execution_count": 29,
   "metadata": {},
   "outputs": [],
   "source": [
    "from sklearn.ensemble import RandomForestRegressor"
   ]
  },
  {
   "cell_type": "code",
   "execution_count": 30,
   "metadata": {},
   "outputs": [],
   "source": [
    "param_grid = {\n",
    "    'n_estimators': [10, 20, 30, 40, 50, 60, 70, 80, 90, 100],\n",
    "    'criterion': ['mse', 'mae']\n",
    "}\n",
    "\n",
    "grid_search = GridSearchCV(\n",
    "    RandomForestRegressor(),\n",
    "    param_grid=param_grid\n",
    ")\n",
    "\n",
    "\n",
    "grid_search.fit(x_train, y_train)\n",
    "\n",
    "rf_model = grid_search.best_estimator_\n",
    "\n",
    "y_pred['rf'] = rf_model.predict(x_test)"
   ]
  },
  {
   "cell_type": "code",
   "execution_count": 31,
   "metadata": {},
   "outputs": [
    {
     "name": "stdout",
     "output_type": "stream",
     "text": [
      "MSE, RFF: 0.2014\n",
      "RandomForestRegressor(bootstrap=True, criterion='mse', max_depth=None,\n",
      "           max_features='auto', max_leaf_nodes=None,\n",
      "           min_impurity_decrease=0.0, min_impurity_split=None,\n",
      "           min_samples_leaf=1, min_samples_split=2,\n",
      "           min_weight_fraction_leaf=0.0, n_estimators=60, n_jobs=1,\n",
      "           oob_score=False, random_state=None, verbose=0, warm_start=False)\n"
     ]
    }
   ],
   "source": [
    "mse['rf'] = mean_squared_error(y_pred['rf'], y_test)\n",
    "\n",
    "print('MSE, RFF: {:.4f}'.format(mse['rf']))"
   ]
  },
  {
   "cell_type": "markdown",
   "metadata": {},
   "source": [
    "### Boosted Random Forests"
   ]
  },
  {
   "cell_type": "code",
   "execution_count": 32,
   "metadata": {},
   "outputs": [],
   "source": [
    "param_grid = {\n",
    "    'base_estimator__n_estimators': [10, 20, 30, 40],\n",
    "    'base_estimator__criterion': ['mse', 'mae'],\n",
    "    'n_estimators': [10, 20, 30, 40, 50, 60],\n",
    "    'loss': ['linear', 'square']\n",
    "}\n",
    "\n",
    "rf_model = RandomForestRegressor(random_state=random_state,\n",
    "                                 )\n",
    "adaboost_model = AdaBoostRegressor(base_estimator=rf_model)\n",
    "\n",
    "grid_search = GridSearchCV(\n",
    "    adaboost_model,\n",
    "    param_grid=param_grid, n_jobs=2)\n",
    "\n",
    "grid_search.fit(x_train, y_train)\n",
    "\n",
    "adaboost_model = grid_search.best_estimator_\n",
    "\n",
    "y_pred['boostrf'] = adaboost_model.predict(x_test)"
   ]
  },
  {
   "cell_type": "code",
   "execution_count": 33,
   "metadata": {},
   "outputs": [
    {
     "name": "stdout",
     "output_type": "stream",
     "text": [
      "MSE, Boost RF: 0.1635\n"
     ]
    }
   ],
   "source": [
    "mse['boostrf'] = mean_squared_error(y_pred['boostrf'], y_test)\n",
    "\n",
    "print('MSE, Boost RF: {:.4f}'.format(mse['boostrf']))"
   ]
  },
  {
   "cell_type": "markdown",
   "metadata": {},
   "source": [
    "## Kernel Methods"
   ]
  },
  {
   "cell_type": "markdown",
   "metadata": {},
   "source": [
    "### Support Vector Regression"
   ]
  },
  {
   "cell_type": "code",
   "execution_count": 34,
   "metadata": {},
   "outputs": [],
   "source": [
    "from sklearn.svm import SVR"
   ]
  },
  {
   "cell_type": "code",
   "execution_count": 35,
   "metadata": {},
   "outputs": [],
   "source": [
    "param_grid = {\n",
    "    'C': np.array( [1, 10, 100, 1000.]),\n",
    "    \"epsilon\": np.array([ .001, .005, .01, .05, .1, .2 ]\n",
    "                        )/(np.max(y_train-np.mean(y_train)) - \n",
    "                           np.min(y_train-np.mean(y_train))),\n",
    "    'gamma': x_train.shape[1] /2*np.logspace( -6 ,6, num=10)\n",
    "}\n",
    "\n",
    "grid_search = GridSearchCV(\n",
    "    SVR(),\n",
    "    param_grid=param_grid\n",
    ")\n",
    "\n",
    "\n",
    "grid_search.fit(x_train, y_train)\n",
    "\n",
    "svr_model = grid_search.best_estimator_\n",
    "\n",
    "y_pred['svr'] = svr_model.predict(x_test)"
   ]
  },
  {
   "cell_type": "code",
   "execution_count": 36,
   "metadata": {},
   "outputs": [
    {
     "name": "stdout",
     "output_type": "stream",
     "text": [
      "MSE, SVR: 0.1826\n"
     ]
    }
   ],
   "source": [
    "mse['svr'] = mean_squared_error(y_pred['svr'], y_test)\n",
    "\n",
    "print('MSE, SVR: {:.4f}'.format(mse['svr']))"
   ]
  },
  {
   "cell_type": "markdown",
   "metadata": {},
   "source": [
    "### Kernel Ridge Regession"
   ]
  },
  {
   "cell_type": "code",
   "execution_count": 37,
   "metadata": {},
   "outputs": [],
   "source": [
    "from sklearn.kernel_ridge import KernelRidge"
   ]
  },
  {
   "cell_type": "code",
   "execution_count": 38,
   "metadata": {},
   "outputs": [],
   "source": [
    "param_grid = {\n",
    "    'alpha': np.array([ .0001, .001, .01, .1, 1. ]) / x_train.shape[0],\n",
    "    'gamma': x_train.shape[1] /2*np.logspace( -6 ,6, num=10)\n",
    "}\n",
    "\n",
    "grid_search = GridSearchCV(\n",
    "    KernelRidge(),\n",
    "    param_grid=param_grid\n",
    ")\n",
    "\n",
    "\n",
    "grid_search.fit(x_train, y_train)\n",
    "\n",
    "krr_model = grid_search.best_estimator_\n",
    "\n",
    "y_pred['krr'] = krr_model.predict(x_test)"
   ]
  },
  {
   "cell_type": "code",
   "execution_count": 39,
   "metadata": {},
   "outputs": [
    {
     "name": "stdout",
     "output_type": "stream",
     "text": [
      "MSE, KRR: 0.2110\n"
     ]
    }
   ],
   "source": [
    "mse['krr'] = mean_squared_error(y_pred['krr'], y_test)\n",
    "\n",
    "print('MSE, KRR: {:.4f}'.format(mse['krr']))"
   ]
  },
  {
   "cell_type": "markdown",
   "metadata": {},
   "source": [
    "### Relevance Vector Machines"
   ]
  },
  {
   "cell_type": "code",
   "execution_count": 40,
   "metadata": {},
   "outputs": [],
   "source": [
    "from skbayes.rvm_ard_models import RVR"
   ]
  },
  {
   "cell_type": "code",
   "execution_count": 41,
   "metadata": {},
   "outputs": [
    {
     "name": "stderr",
     "output_type": "stream",
     "text": [
      "/Users/eman/anaconda3/envs/hsipy/lib/python3.6/site-packages/skbayes/rvm_ard_models/fast_rvm.py:369: RuntimeWarning: divide by zero encountered in true_divide\n",
      "  qi[active] = Aa * Qa / (Aa - Sa )\n",
      "/Users/eman/anaconda3/envs/hsipy/lib/python3.6/site-packages/skbayes/rvm_ard_models/fast_rvm.py:370: RuntimeWarning: divide by zero encountered in true_divide\n",
      "  si[active] = Aa * Sa / (Aa - Sa )\n",
      "/Users/eman/anaconda3/envs/hsipy/lib/python3.6/site-packages/skbayes/rvm_ard_models/fast_rvm.py:30: RuntimeWarning: invalid value encountered in subtract\n",
      "  theta        =  q**2 - s\n",
      "/Users/eman/anaconda3/envs/hsipy/lib/python3.6/site-packages/skbayes/rvm_ard_models/fast_rvm.py:31: RuntimeWarning: invalid value encountered in greater\n",
      "  add          =  (theta > 0) * (active == False)\n",
      "/Users/eman/anaconda3/envs/hsipy/lib/python3.6/site-packages/skbayes/rvm_ard_models/fast_rvm.py:32: RuntimeWarning: invalid value encountered in greater\n",
      "  recompute    =  (theta > 0) * (active == True)\n",
      "/Users/eman/anaconda3/envs/hsipy/lib/python3.6/site-packages/skbayes/rvm_ard_models/fast_rvm.py:49: RuntimeWarning: divide by zero encountered in true_divide\n",
      "  deltaL[delete]    = Qdel**2 / (Sdel - Adel) - np.log(1 - Sdel / Adel)\n",
      "/Users/eman/anaconda3/envs/hsipy/lib/python3.6/site-packages/skbayes/rvm_ard_models/fast_rvm.py:49: RuntimeWarning: divide by zero encountered in log\n",
      "  deltaL[delete]    = Qdel**2 / (Sdel - Adel) - np.log(1 - Sdel / Adel)\n",
      "/Users/eman/anaconda3/envs/hsipy/lib/python3.6/site-packages/skbayes/rvm_ard_models/fast_rvm.py:56: RuntimeWarning: invalid value encountered in greater\n",
      "  same_features  = np.sum( theta[~recompute] > 0) == 0\n",
      "/Users/eman/anaconda3/envs/hsipy/lib/python3.6/site-packages/skbayes/rvm_ard_models/fast_rvm.py:369: RuntimeWarning: divide by zero encountered in true_divide\n",
      "  qi[active] = Aa * Qa / (Aa - Sa )\n",
      "/Users/eman/anaconda3/envs/hsipy/lib/python3.6/site-packages/skbayes/rvm_ard_models/fast_rvm.py:370: RuntimeWarning: divide by zero encountered in true_divide\n",
      "  si[active] = Aa * Sa / (Aa - Sa )\n",
      "/Users/eman/anaconda3/envs/hsipy/lib/python3.6/site-packages/skbayes/rvm_ard_models/fast_rvm.py:30: RuntimeWarning: invalid value encountered in subtract\n",
      "  theta        =  q**2 - s\n",
      "/Users/eman/anaconda3/envs/hsipy/lib/python3.6/site-packages/skbayes/rvm_ard_models/fast_rvm.py:31: RuntimeWarning: invalid value encountered in greater\n",
      "  add          =  (theta > 0) * (active == False)\n",
      "/Users/eman/anaconda3/envs/hsipy/lib/python3.6/site-packages/skbayes/rvm_ard_models/fast_rvm.py:32: RuntimeWarning: invalid value encountered in greater\n",
      "  recompute    =  (theta > 0) * (active == True)\n",
      "/Users/eman/anaconda3/envs/hsipy/lib/python3.6/site-packages/skbayes/rvm_ard_models/fast_rvm.py:49: RuntimeWarning: divide by zero encountered in true_divide\n",
      "  deltaL[delete]    = Qdel**2 / (Sdel - Adel) - np.log(1 - Sdel / Adel)\n",
      "/Users/eman/anaconda3/envs/hsipy/lib/python3.6/site-packages/skbayes/rvm_ard_models/fast_rvm.py:49: RuntimeWarning: divide by zero encountered in log\n",
      "  deltaL[delete]    = Qdel**2 / (Sdel - Adel) - np.log(1 - Sdel / Adel)\n",
      "/Users/eman/anaconda3/envs/hsipy/lib/python3.6/site-packages/skbayes/rvm_ard_models/fast_rvm.py:56: RuntimeWarning: invalid value encountered in greater\n",
      "  same_features  = np.sum( theta[~recompute] > 0) == 0\n"
     ]
    }
   ],
   "source": [
    "param_grid = {\n",
    "    'kernel': ['rbf', 'poly'],\n",
    "    'gamma': x_train.shape[1] /2*np.logspace( -6 ,6, num=10),\n",
    "    'coef0': [0.01, 0.1, 1, 10],\n",
    "    'degree': [2, 3]\n",
    "}\n",
    "\n",
    "grid_search = GridSearchCV(\n",
    "    RVR(),\n",
    "    param_grid=param_grid,\n",
    "    n_jobs=2\n",
    ")\n",
    "\n",
    "\n",
    "grid_search.fit(x_train, y_train)\n",
    "\n",
    "rvr_model = grid_search.best_estimator_\n",
    "\n",
    "y_pred['rvr'] = rvr_model.predict(x_test)"
   ]
  },
  {
   "cell_type": "code",
   "execution_count": 42,
   "metadata": {},
   "outputs": [
    {
     "name": "stdout",
     "output_type": "stream",
     "text": [
      "MSE, RVR: 0.1306\n"
     ]
    }
   ],
   "source": [
    "mse['rvr'] = mean_squared_error(y_pred['rvr'], y_test)\n",
    "\n",
    "print('MSE, RVR: {:.4f}'.format(mse['rvr']))"
   ]
  },
  {
   "cell_type": "markdown",
   "metadata": {},
   "source": [
    "## Gaussian Processes"
   ]
  },
  {
   "cell_type": "markdown",
   "metadata": {},
   "source": [
    "### Gaussian Process Regression (ARD Kernel)"
   ]
  },
  {
   "cell_type": "code",
   "execution_count": 43,
   "metadata": {},
   "outputs": [],
   "source": [
    "from sklearn.gaussian_process import GaussianProcessRegressor\n",
    "from sklearn.gaussian_process.kernels import ConstantKernel, RBF, WhiteKernel"
   ]
  },
  {
   "cell_type": "code",
   "execution_count": 44,
   "metadata": {},
   "outputs": [],
   "source": [
    "kernel = ConstantKernel(1., (1e-10, 1000)) * RBF(length_scale=np.repeat(1.0,x_train.shape[1]), length_scale_bounds=(1e-2, 1e2)) \\\n",
    "             + WhiteKernel(noise_level=1e-5, noise_level_bounds=(1e-5, 1e+1))\n",
    "    \n",
    "gpr_model = GaussianProcessRegressor(kernel=kernel, n_restarts_optimizer=4)\n",
    "\n",
    "gpr_model.fit(x_train, y_train)\n",
    "\n",
    "y_pred['gpr'] = gpr_model.predict(x_test)"
   ]
  },
  {
   "cell_type": "code",
   "execution_count": 45,
   "metadata": {},
   "outputs": [
    {
     "name": "stdout",
     "output_type": "stream",
     "text": [
      "MSE, GPR: 0.1199\n"
     ]
    }
   ],
   "source": [
    "mse['gpr'] = mean_squared_error(y_pred['gpr'], y_test)\n",
    "\n",
    "print('MSE, GPR: {:.4f}'.format(mse['gpr']))"
   ]
  },
  {
   "cell_type": "markdown",
   "metadata": {},
   "source": [
    "### Heteroscedastic Kernel"
   ]
  },
  {
   "cell_type": "code",
   "execution_count": 46,
   "metadata": {},
   "outputs": [],
   "source": [
    "from gp_extras.kernels import HeteroscedasticKernel\n",
    "from sklearn.cluster import KMeans"
   ]
  },
  {
   "cell_type": "code",
   "execution_count": 47,
   "metadata": {},
   "outputs": [],
   "source": [
    "prototypes = KMeans(n_clusters=10).fit(x_train).cluster_centers_\n",
    "\n",
    "kernel = ConstantKernel(1., (1e-10, 1000)) * RBF(length_scale=np.repeat(1.0,x_train.shape[1]), length_scale_bounds=(1e-2, 1e2)) \\\n",
    "             + HeteroscedasticKernel.construct(prototypes, sigma_2=1e-5, sigma_2_bounds=(1e-5, 1e+1),\n",
    "                                     gamma=5.0, gamma_bounds='fixed')\n",
    "    \n",
    "gpr_model = GaussianProcessRegressor(kernel=kernel, n_restarts_optimizer=4, alpha=0)\n",
    "\n",
    "gpr_model.fit(x_train, y_train)\n",
    "\n",
    "y_pred['vhgpr'] = gpr_model.predict(x_test)\n",
    "    "
   ]
  },
  {
   "cell_type": "code",
   "execution_count": 48,
   "metadata": {},
   "outputs": [
    {
     "name": "stdout",
     "output_type": "stream",
     "text": [
      "MSE, GPR: 0.1336\n"
     ]
    }
   ],
   "source": [
    "mse['vhgpr'] = mean_squared_error(y_pred['vhgpr'], y_test)\n",
    "\n",
    "print('MSE, GPR: {:.4f}'.format(mse['vhgpr']))"
   ]
  },
  {
   "cell_type": "code",
   "execution_count": null,
   "metadata": {},
   "outputs": [],
   "source": []
  }
 ],
 "metadata": {
  "kernelspec": {
   "display_name": "Python 3",
   "language": "python",
   "name": "python3"
  },
  "language_info": {
   "codemirror_mode": {
    "name": "ipython",
    "version": 3
   },
   "file_extension": ".py",
   "mimetype": "text/x-python",
   "name": "python",
   "nbconvert_exporter": "python",
   "pygments_lexer": "ipython3",
   "version": "3.6.4"
  },
  "toc": {
   "nav_menu": {},
   "number_sections": true,
   "sideBar": true,
   "skip_h1_title": false,
   "title_cell": "Table of Contents",
   "title_sidebar": "Contents",
   "toc_cell": false,
   "toc_position": {},
   "toc_section_display": true,
   "toc_window_display": true
  },
  "varInspector": {
   "cols": {
    "lenName": 16,
    "lenType": 16,
    "lenVar": 40
   },
   "kernels_config": {
    "python": {
     "delete_cmd_postfix": "",
     "delete_cmd_prefix": "del ",
     "library": "var_list.py",
     "varRefreshCmd": "print(var_dic_list())"
    },
    "r": {
     "delete_cmd_postfix": ") ",
     "delete_cmd_prefix": "rm(",
     "library": "var_list.r",
     "varRefreshCmd": "cat(var_dic_list()) "
    }
   },
   "types_to_exclude": [
    "module",
    "function",
    "builtin_function_or_method",
    "instance",
    "_Feature"
   ],
   "window_display": false
  }
 },
 "nbformat": 4,
 "nbformat_minor": 2
}
